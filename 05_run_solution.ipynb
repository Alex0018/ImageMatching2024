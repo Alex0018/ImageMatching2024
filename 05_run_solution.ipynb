{
 "cells": [
  {
   "cell_type": "code",
   "execution_count": 1,
   "metadata": {},
   "outputs": [],
   "source": [
    "import pandas as pd\n",
    "import numpy as np\n",
    "\n",
    "import wandb\n",
    "\n",
    "from pathlib import Path\n",
    "import torch\n",
    "\n",
    "from src.config import Config\n",
    "from src.IMC_solution import IMC_Solution\n",
    "from src.IMC_utils import IMC_Utils"
   ]
  },
  {
   "cell_type": "code",
   "execution_count": 2,
   "metadata": {},
   "outputs": [],
   "source": [
    "key = ''\n",
    "wandb.login(key=key)"
   ]
  },
  {
   "cell_type": "code",
   "execution_count": 5,
   "metadata": {},
   "outputs": [],
   "source": [
    "df_train = pd.read_csv(Config.path_target)\n",
    "df_train['image_path'] = df_train.apply(lambda row: f'data\\\\train\\\\{row[\"dataset\"]}\\\\images\\\\' + row['image_name'], axis=1)\n",
    "df_train\n",
    "# data = IMC_Utils.get_metadata(df_train.loc[(df_train['dataset'] != 'pond') & (df_train['dataset'] != 'lizard')])\n",
    "# data = IMC_Utils.get_metadata(df_train.loc[df_train['dataset'] == 'multi-temporal-temple-baalshamin'])\n",
    "# data = IMC_Utils.get_metadata(df_train.loc[df_train['dataset'] == 'dioscuri'])\n",
    "data = IMC_Utils.get_metadata(df_train.loc[(df_train['dataset'] == 'church') | (df_train['dataset'] == 'dioscuri')])"
   ]
  },
  {
   "cell_type": "code",
   "execution_count": null,
   "metadata": {},
   "outputs": [],
   "source": [
    "dir_root = Path(Config.dir_train)\n",
    "\n",
    "solution = IMC_Solution(image_pairs_matcher_args={'threshold':0.1, 'min_matches': 30},\n",
    "                        keypoint_matcher_class_label='LightGlue',\n",
    "                        keypoint_matcher_args={'extractor_class_label': 'disk', 'resize_to': 768},\n",
    "                        keypoint_parser_args={'threshold_low': 0.01},\n",
    "                        device=torch.device('cuda'))\n",
    "solution.run(data, dir_root, Config.path_target)"
   ]
  },
  {
   "cell_type": "code",
   "execution_count": null,
   "metadata": {},
   "outputs": [],
   "source": []
  }
 ],
 "metadata": {
  "kernelspec": {
   "display_name": "Python 3",
   "language": "python",
   "name": "python3"
  },
  "language_info": {
   "codemirror_mode": {
    "name": "ipython",
    "version": 3
   },
   "file_extension": ".py",
   "mimetype": "text/x-python",
   "name": "python",
   "nbconvert_exporter": "python",
   "pygments_lexer": "ipython3",
   "version": "3.8.10"
  }
 },
 "nbformat": 4,
 "nbformat_minor": 2
}
